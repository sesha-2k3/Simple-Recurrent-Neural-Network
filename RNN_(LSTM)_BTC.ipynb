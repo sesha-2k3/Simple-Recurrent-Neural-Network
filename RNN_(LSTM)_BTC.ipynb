{
  "cells": [
    {
      "cell_type": "markdown",
      "metadata": {
        "id": "view-in-github",
        "colab_type": "text"
      },
      "source": [
        "<a href=\"https://colab.research.google.com/github/sesha-2k3/Simple-Recurrent-Neural-Network/blob/main/RNN_(LSTM)_BTC.ipynb\" target=\"_parent\"><img src=\"https://colab.research.google.com/assets/colab-badge.svg\" alt=\"Open In Colab\"/></a>"
      ]
    },
    {
      "cell_type": "markdown",
      "id": "b39d7535",
      "metadata": {
        "id": "b39d7535"
      },
      "source": [
        "# Simple RNN for Bitcoin Price Prediction"
      ]
    },
    {
      "cell_type": "markdown",
      "id": "7344aa8c",
      "metadata": {
        "id": "7344aa8c"
      },
      "source": [
        "### Loading the Libraries"
      ]
    },
    {
      "cell_type": "code",
      "execution_count": null,
      "id": "de2760d4",
      "metadata": {
        "id": "de2760d4"
      },
      "outputs": [],
      "source": [
        "import numpy as np\n",
        "import pandas as pd\n",
        "import matplotlib.pyplot as plt\n",
        "import math\n",
        "\n",
        "from sklearn.preprocessing import MinMaxScaler\n",
        "from sklearn.metrics import mean_squared_error, r2_score\n",
        "\n",
        "from keras.models import Sequential\n",
        "from keras.layers import Dense, LSTM"
      ]
    },
    {
      "cell_type": "markdown",
      "id": "ca34b089",
      "metadata": {
        "id": "ca34b089"
      },
      "source": [
        "### Loading the Dataset"
      ]
    },
    {
      "cell_type": "code",
      "execution_count": null,
      "id": "1a928b1b",
      "metadata": {
        "id": "1a928b1b"
      },
      "outputs": [],
      "source": [
        "data = pd.read_csv('/content/btcedge.csv')"
      ]
    },
    {
      "cell_type": "code",
      "execution_count": null,
      "id": "e038751a",
      "metadata": {
        "colab": {
          "base_uri": "https://localhost:8080/",
          "height": 357
        },
        "id": "e038751a",
        "outputId": "92b9be44-4ba7-4d34-ac47-25525fd648d1"
      },
      "outputs": [
        {
          "output_type": "execute_result",
          "data": {
            "text/plain": [
              "      date_id          datetime_id    market  rpt_key        last    diff_24h  \\\n",
              "0  2017-05-31  2017-06-01 00:00:00  bitstamp  btc_eur     1996.72     2029.99   \n",
              "1  2017-05-31  2017-06-01 00:00:00  bitflyer  btc_jpy   267098.00   269649.00   \n",
              "2  2017-05-31  2017-06-01 00:00:00    korbit  btc_krw  3003500.00  3140000.00   \n",
              "3  2017-05-31  2017-06-01 00:00:00  bitstamp  btc_usd     2237.40     2239.37   \n",
              "4  2017-05-31  2017-06-01 00:00:00    okcoin  btc_usd     2318.82     2228.70   \n",
              "\n",
              "   diff_per_24h         bid         ask         low        high        volume  \\\n",
              "0     -1.638924     2005.50     2005.56     1950.00     2063.73   2314.500750   \n",
              "1     -0.946045   267124.00   267267.00   267124.00   267267.00  70922.880112   \n",
              "2     -4.347134  3003500.00  3004000.00  3002000.00  3209500.00   6109.752872   \n",
              "3     -0.087971     2233.09     2237.40     2154.28     2293.46  13681.282017   \n",
              "4      4.043613     2319.40     2319.99     2129.78     2318.82   4241.641516   \n",
              "\n",
              "            created_at           updated_at  \n",
              "0  2017-05-31 14:59:36  2017-05-31 14:59:36  \n",
              "1  2017-05-31 14:59:36  2017-05-31 14:59:36  \n",
              "2  2017-05-31 14:59:36  2017-05-31 14:59:36  \n",
              "3  2017-05-31 14:59:36  2017-05-31 14:59:36  \n",
              "4  2017-05-31 14:59:36  2017-05-31 14:59:36  "
            ],
            "text/html": [
              "\n",
              "  <div id=\"df-26ea234b-9d90-4c56-bbbc-1b1cfcd72b0c\">\n",
              "    <div class=\"colab-df-container\">\n",
              "      <div>\n",
              "<style scoped>\n",
              "    .dataframe tbody tr th:only-of-type {\n",
              "        vertical-align: middle;\n",
              "    }\n",
              "\n",
              "    .dataframe tbody tr th {\n",
              "        vertical-align: top;\n",
              "    }\n",
              "\n",
              "    .dataframe thead th {\n",
              "        text-align: right;\n",
              "    }\n",
              "</style>\n",
              "<table border=\"1\" class=\"dataframe\">\n",
              "  <thead>\n",
              "    <tr style=\"text-align: right;\">\n",
              "      <th></th>\n",
              "      <th>date_id</th>\n",
              "      <th>datetime_id</th>\n",
              "      <th>market</th>\n",
              "      <th>rpt_key</th>\n",
              "      <th>last</th>\n",
              "      <th>diff_24h</th>\n",
              "      <th>diff_per_24h</th>\n",
              "      <th>bid</th>\n",
              "      <th>ask</th>\n",
              "      <th>low</th>\n",
              "      <th>high</th>\n",
              "      <th>volume</th>\n",
              "      <th>created_at</th>\n",
              "      <th>updated_at</th>\n",
              "    </tr>\n",
              "  </thead>\n",
              "  <tbody>\n",
              "    <tr>\n",
              "      <th>0</th>\n",
              "      <td>2017-05-31</td>\n",
              "      <td>2017-06-01 00:00:00</td>\n",
              "      <td>bitstamp</td>\n",
              "      <td>btc_eur</td>\n",
              "      <td>1996.72</td>\n",
              "      <td>2029.99</td>\n",
              "      <td>-1.638924</td>\n",
              "      <td>2005.50</td>\n",
              "      <td>2005.56</td>\n",
              "      <td>1950.00</td>\n",
              "      <td>2063.73</td>\n",
              "      <td>2314.500750</td>\n",
              "      <td>2017-05-31 14:59:36</td>\n",
              "      <td>2017-05-31 14:59:36</td>\n",
              "    </tr>\n",
              "    <tr>\n",
              "      <th>1</th>\n",
              "      <td>2017-05-31</td>\n",
              "      <td>2017-06-01 00:00:00</td>\n",
              "      <td>bitflyer</td>\n",
              "      <td>btc_jpy</td>\n",
              "      <td>267098.00</td>\n",
              "      <td>269649.00</td>\n",
              "      <td>-0.946045</td>\n",
              "      <td>267124.00</td>\n",
              "      <td>267267.00</td>\n",
              "      <td>267124.00</td>\n",
              "      <td>267267.00</td>\n",
              "      <td>70922.880112</td>\n",
              "      <td>2017-05-31 14:59:36</td>\n",
              "      <td>2017-05-31 14:59:36</td>\n",
              "    </tr>\n",
              "    <tr>\n",
              "      <th>2</th>\n",
              "      <td>2017-05-31</td>\n",
              "      <td>2017-06-01 00:00:00</td>\n",
              "      <td>korbit</td>\n",
              "      <td>btc_krw</td>\n",
              "      <td>3003500.00</td>\n",
              "      <td>3140000.00</td>\n",
              "      <td>-4.347134</td>\n",
              "      <td>3003500.00</td>\n",
              "      <td>3004000.00</td>\n",
              "      <td>3002000.00</td>\n",
              "      <td>3209500.00</td>\n",
              "      <td>6109.752872</td>\n",
              "      <td>2017-05-31 14:59:36</td>\n",
              "      <td>2017-05-31 14:59:36</td>\n",
              "    </tr>\n",
              "    <tr>\n",
              "      <th>3</th>\n",
              "      <td>2017-05-31</td>\n",
              "      <td>2017-06-01 00:00:00</td>\n",
              "      <td>bitstamp</td>\n",
              "      <td>btc_usd</td>\n",
              "      <td>2237.40</td>\n",
              "      <td>2239.37</td>\n",
              "      <td>-0.087971</td>\n",
              "      <td>2233.09</td>\n",
              "      <td>2237.40</td>\n",
              "      <td>2154.28</td>\n",
              "      <td>2293.46</td>\n",
              "      <td>13681.282017</td>\n",
              "      <td>2017-05-31 14:59:36</td>\n",
              "      <td>2017-05-31 14:59:36</td>\n",
              "    </tr>\n",
              "    <tr>\n",
              "      <th>4</th>\n",
              "      <td>2017-05-31</td>\n",
              "      <td>2017-06-01 00:00:00</td>\n",
              "      <td>okcoin</td>\n",
              "      <td>btc_usd</td>\n",
              "      <td>2318.82</td>\n",
              "      <td>2228.70</td>\n",
              "      <td>4.043613</td>\n",
              "      <td>2319.40</td>\n",
              "      <td>2319.99</td>\n",
              "      <td>2129.78</td>\n",
              "      <td>2318.82</td>\n",
              "      <td>4241.641516</td>\n",
              "      <td>2017-05-31 14:59:36</td>\n",
              "      <td>2017-05-31 14:59:36</td>\n",
              "    </tr>\n",
              "  </tbody>\n",
              "</table>\n",
              "</div>\n",
              "      <button class=\"colab-df-convert\" onclick=\"convertToInteractive('df-26ea234b-9d90-4c56-bbbc-1b1cfcd72b0c')\"\n",
              "              title=\"Convert this dataframe to an interactive table.\"\n",
              "              style=\"display:none;\">\n",
              "        \n",
              "  <svg xmlns=\"http://www.w3.org/2000/svg\" height=\"24px\"viewBox=\"0 0 24 24\"\n",
              "       width=\"24px\">\n",
              "    <path d=\"M0 0h24v24H0V0z\" fill=\"none\"/>\n",
              "    <path d=\"M18.56 5.44l.94 2.06.94-2.06 2.06-.94-2.06-.94-.94-2.06-.94 2.06-2.06.94zm-11 1L8.5 8.5l.94-2.06 2.06-.94-2.06-.94L8.5 2.5l-.94 2.06-2.06.94zm10 10l.94 2.06.94-2.06 2.06-.94-2.06-.94-.94-2.06-.94 2.06-2.06.94z\"/><path d=\"M17.41 7.96l-1.37-1.37c-.4-.4-.92-.59-1.43-.59-.52 0-1.04.2-1.43.59L10.3 9.45l-7.72 7.72c-.78.78-.78 2.05 0 2.83L4 21.41c.39.39.9.59 1.41.59.51 0 1.02-.2 1.41-.59l7.78-7.78 2.81-2.81c.8-.78.8-2.07 0-2.86zM5.41 20L4 18.59l7.72-7.72 1.47 1.35L5.41 20z\"/>\n",
              "  </svg>\n",
              "      </button>\n",
              "      \n",
              "  <style>\n",
              "    .colab-df-container {\n",
              "      display:flex;\n",
              "      flex-wrap:wrap;\n",
              "      gap: 12px;\n",
              "    }\n",
              "\n",
              "    .colab-df-convert {\n",
              "      background-color: #E8F0FE;\n",
              "      border: none;\n",
              "      border-radius: 50%;\n",
              "      cursor: pointer;\n",
              "      display: none;\n",
              "      fill: #1967D2;\n",
              "      height: 32px;\n",
              "      padding: 0 0 0 0;\n",
              "      width: 32px;\n",
              "    }\n",
              "\n",
              "    .colab-df-convert:hover {\n",
              "      background-color: #E2EBFA;\n",
              "      box-shadow: 0px 1px 2px rgba(60, 64, 67, 0.3), 0px 1px 3px 1px rgba(60, 64, 67, 0.15);\n",
              "      fill: #174EA6;\n",
              "    }\n",
              "\n",
              "    [theme=dark] .colab-df-convert {\n",
              "      background-color: #3B4455;\n",
              "      fill: #D2E3FC;\n",
              "    }\n",
              "\n",
              "    [theme=dark] .colab-df-convert:hover {\n",
              "      background-color: #434B5C;\n",
              "      box-shadow: 0px 1px 3px 1px rgba(0, 0, 0, 0.15);\n",
              "      filter: drop-shadow(0px 1px 2px rgba(0, 0, 0, 0.3));\n",
              "      fill: #FFFFFF;\n",
              "    }\n",
              "  </style>\n",
              "\n",
              "      <script>\n",
              "        const buttonEl =\n",
              "          document.querySelector('#df-26ea234b-9d90-4c56-bbbc-1b1cfcd72b0c button.colab-df-convert');\n",
              "        buttonEl.style.display =\n",
              "          google.colab.kernel.accessAllowed ? 'block' : 'none';\n",
              "\n",
              "        async function convertToInteractive(key) {\n",
              "          const element = document.querySelector('#df-26ea234b-9d90-4c56-bbbc-1b1cfcd72b0c');\n",
              "          const dataTable =\n",
              "            await google.colab.kernel.invokeFunction('convertToInteractive',\n",
              "                                                     [key], {});\n",
              "          if (!dataTable) return;\n",
              "\n",
              "          const docLinkHtml = 'Like what you see? Visit the ' +\n",
              "            '<a target=\"_blank\" href=https://colab.research.google.com/notebooks/data_table.ipynb>data table notebook</a>'\n",
              "            + ' to learn more about interactive tables.';\n",
              "          element.innerHTML = '';\n",
              "          dataTable['output_type'] = 'display_data';\n",
              "          await google.colab.output.renderOutput(dataTable, element);\n",
              "          const docLink = document.createElement('div');\n",
              "          docLink.innerHTML = docLinkHtml;\n",
              "          element.appendChild(docLink);\n",
              "        }\n",
              "      </script>\n",
              "    </div>\n",
              "  </div>\n",
              "  "
            ]
          },
          "metadata": {},
          "execution_count": 4
        }
      ],
      "source": [
        "# Summarize the data\n",
        "data.head()"
      ]
    },
    {
      "cell_type": "code",
      "execution_count": null,
      "id": "ca990abd",
      "metadata": {
        "colab": {
          "base_uri": "https://localhost:8080/"
        },
        "id": "ca990abd",
        "outputId": "d1922b11-7eff-4d90-c2b0-e3cf90aaa9d9"
      },
      "outputs": [
        {
          "output_type": "execute_result",
          "data": {
            "text/plain": [
              "(627190, 14)"
            ]
          },
          "metadata": {},
          "execution_count": 5
        }
      ],
      "source": [
        "# No. of rows and columns of the dataset\n",
        "data.shape"
      ]
    },
    {
      "cell_type": "code",
      "execution_count": null,
      "id": "84919b08",
      "metadata": {
        "colab": {
          "base_uri": "https://localhost:8080/"
        },
        "id": "84919b08",
        "outputId": "0959baef-92bb-40fb-c0bb-e0c4ef407860"
      },
      "outputs": [
        {
          "output_type": "execute_result",
          "data": {
            "text/plain": [
              "btc_usd       125438\n",
              "btc_eur        62719\n",
              "btc_jpy        62719\n",
              "btc_krw        62719\n",
              "etc_krw        62719\n",
              "eth_btc        62719\n",
              "eth_krw        62719\n",
              "fx_btc_jpy     62719\n",
              "ltc_usd        62719\n",
              "Name: rpt_key, dtype: int64"
            ]
          },
          "metadata": {},
          "execution_count": 6
        }
      ],
      "source": [
        "data['rpt_key'].value_counts()"
      ]
    },
    {
      "cell_type": "code",
      "execution_count": null,
      "id": "9faa9c49",
      "metadata": {
        "colab": {
          "base_uri": "https://localhost:8080/",
          "height": 357
        },
        "id": "9faa9c49",
        "outputId": "54c69b11-a15e-4d94-f8bd-a539d4dcaf83"
      },
      "outputs": [
        {
          "output_type": "execute_result",
          "data": {
            "text/plain": [
              "       date_id          datetime_id    market  rpt_key     last  diff_24h  \\\n",
              "3   2017-05-31  2017-06-01 00:00:00  bitstamp  btc_usd  2237.40   2239.37   \n",
              "4   2017-05-31  2017-06-01 00:00:00    okcoin  btc_usd  2318.82   2228.70   \n",
              "15  2017-06-01  2017-06-01 00:01:00  bitstamp  btc_usd  2248.39   2242.44   \n",
              "16  2017-06-01  2017-06-01 00:01:00    okcoin  btc_usd  2320.42   2228.40   \n",
              "23  2017-06-01  2017-06-01 00:02:00  bitstamp  btc_usd  2248.35   2238.58   \n",
              "\n",
              "    diff_per_24h      bid      ask      low     high        volume  \\\n",
              "3      -0.087971  2233.09  2237.40  2154.28  2293.46  13681.282017   \n",
              "4       4.043613  2319.40  2319.99  2129.78  2318.82   4241.641516   \n",
              "15      0.265336  2247.77  2248.38  2154.28  2293.46  13701.698603   \n",
              "16      4.129420  2320.99  2321.49  2129.78  2322.00   4260.261516   \n",
              "23      0.436437  2248.35  2248.69  2154.28  2293.46  13742.110913   \n",
              "\n",
              "             created_at           updated_at  \n",
              "3   2017-05-31 14:59:36  2017-05-31 14:59:36  \n",
              "4   2017-05-31 14:59:36  2017-05-31 14:59:36  \n",
              "15  2017-05-31 15:00:36  2017-05-31 15:00:36  \n",
              "16  2017-05-31 15:00:36  2017-05-31 15:00:36  \n",
              "23  2017-05-31 15:01:36  2017-05-31 15:01:36  "
            ],
            "text/html": [
              "\n",
              "  <div id=\"df-4dce7eb6-37c8-418b-a52c-61cb87df9da9\">\n",
              "    <div class=\"colab-df-container\">\n",
              "      <div>\n",
              "<style scoped>\n",
              "    .dataframe tbody tr th:only-of-type {\n",
              "        vertical-align: middle;\n",
              "    }\n",
              "\n",
              "    .dataframe tbody tr th {\n",
              "        vertical-align: top;\n",
              "    }\n",
              "\n",
              "    .dataframe thead th {\n",
              "        text-align: right;\n",
              "    }\n",
              "</style>\n",
              "<table border=\"1\" class=\"dataframe\">\n",
              "  <thead>\n",
              "    <tr style=\"text-align: right;\">\n",
              "      <th></th>\n",
              "      <th>date_id</th>\n",
              "      <th>datetime_id</th>\n",
              "      <th>market</th>\n",
              "      <th>rpt_key</th>\n",
              "      <th>last</th>\n",
              "      <th>diff_24h</th>\n",
              "      <th>diff_per_24h</th>\n",
              "      <th>bid</th>\n",
              "      <th>ask</th>\n",
              "      <th>low</th>\n",
              "      <th>high</th>\n",
              "      <th>volume</th>\n",
              "      <th>created_at</th>\n",
              "      <th>updated_at</th>\n",
              "    </tr>\n",
              "  </thead>\n",
              "  <tbody>\n",
              "    <tr>\n",
              "      <th>3</th>\n",
              "      <td>2017-05-31</td>\n",
              "      <td>2017-06-01 00:00:00</td>\n",
              "      <td>bitstamp</td>\n",
              "      <td>btc_usd</td>\n",
              "      <td>2237.40</td>\n",
              "      <td>2239.37</td>\n",
              "      <td>-0.087971</td>\n",
              "      <td>2233.09</td>\n",
              "      <td>2237.40</td>\n",
              "      <td>2154.28</td>\n",
              "      <td>2293.46</td>\n",
              "      <td>13681.282017</td>\n",
              "      <td>2017-05-31 14:59:36</td>\n",
              "      <td>2017-05-31 14:59:36</td>\n",
              "    </tr>\n",
              "    <tr>\n",
              "      <th>4</th>\n",
              "      <td>2017-05-31</td>\n",
              "      <td>2017-06-01 00:00:00</td>\n",
              "      <td>okcoin</td>\n",
              "      <td>btc_usd</td>\n",
              "      <td>2318.82</td>\n",
              "      <td>2228.70</td>\n",
              "      <td>4.043613</td>\n",
              "      <td>2319.40</td>\n",
              "      <td>2319.99</td>\n",
              "      <td>2129.78</td>\n",
              "      <td>2318.82</td>\n",
              "      <td>4241.641516</td>\n",
              "      <td>2017-05-31 14:59:36</td>\n",
              "      <td>2017-05-31 14:59:36</td>\n",
              "    </tr>\n",
              "    <tr>\n",
              "      <th>15</th>\n",
              "      <td>2017-06-01</td>\n",
              "      <td>2017-06-01 00:01:00</td>\n",
              "      <td>bitstamp</td>\n",
              "      <td>btc_usd</td>\n",
              "      <td>2248.39</td>\n",
              "      <td>2242.44</td>\n",
              "      <td>0.265336</td>\n",
              "      <td>2247.77</td>\n",
              "      <td>2248.38</td>\n",
              "      <td>2154.28</td>\n",
              "      <td>2293.46</td>\n",
              "      <td>13701.698603</td>\n",
              "      <td>2017-05-31 15:00:36</td>\n",
              "      <td>2017-05-31 15:00:36</td>\n",
              "    </tr>\n",
              "    <tr>\n",
              "      <th>16</th>\n",
              "      <td>2017-06-01</td>\n",
              "      <td>2017-06-01 00:01:00</td>\n",
              "      <td>okcoin</td>\n",
              "      <td>btc_usd</td>\n",
              "      <td>2320.42</td>\n",
              "      <td>2228.40</td>\n",
              "      <td>4.129420</td>\n",
              "      <td>2320.99</td>\n",
              "      <td>2321.49</td>\n",
              "      <td>2129.78</td>\n",
              "      <td>2322.00</td>\n",
              "      <td>4260.261516</td>\n",
              "      <td>2017-05-31 15:00:36</td>\n",
              "      <td>2017-05-31 15:00:36</td>\n",
              "    </tr>\n",
              "    <tr>\n",
              "      <th>23</th>\n",
              "      <td>2017-06-01</td>\n",
              "      <td>2017-06-01 00:02:00</td>\n",
              "      <td>bitstamp</td>\n",
              "      <td>btc_usd</td>\n",
              "      <td>2248.35</td>\n",
              "      <td>2238.58</td>\n",
              "      <td>0.436437</td>\n",
              "      <td>2248.35</td>\n",
              "      <td>2248.69</td>\n",
              "      <td>2154.28</td>\n",
              "      <td>2293.46</td>\n",
              "      <td>13742.110913</td>\n",
              "      <td>2017-05-31 15:01:36</td>\n",
              "      <td>2017-05-31 15:01:36</td>\n",
              "    </tr>\n",
              "  </tbody>\n",
              "</table>\n",
              "</div>\n",
              "      <button class=\"colab-df-convert\" onclick=\"convertToInteractive('df-4dce7eb6-37c8-418b-a52c-61cb87df9da9')\"\n",
              "              title=\"Convert this dataframe to an interactive table.\"\n",
              "              style=\"display:none;\">\n",
              "        \n",
              "  <svg xmlns=\"http://www.w3.org/2000/svg\" height=\"24px\"viewBox=\"0 0 24 24\"\n",
              "       width=\"24px\">\n",
              "    <path d=\"M0 0h24v24H0V0z\" fill=\"none\"/>\n",
              "    <path d=\"M18.56 5.44l.94 2.06.94-2.06 2.06-.94-2.06-.94-.94-2.06-.94 2.06-2.06.94zm-11 1L8.5 8.5l.94-2.06 2.06-.94-2.06-.94L8.5 2.5l-.94 2.06-2.06.94zm10 10l.94 2.06.94-2.06 2.06-.94-2.06-.94-.94-2.06-.94 2.06-2.06.94z\"/><path d=\"M17.41 7.96l-1.37-1.37c-.4-.4-.92-.59-1.43-.59-.52 0-1.04.2-1.43.59L10.3 9.45l-7.72 7.72c-.78.78-.78 2.05 0 2.83L4 21.41c.39.39.9.59 1.41.59.51 0 1.02-.2 1.41-.59l7.78-7.78 2.81-2.81c.8-.78.8-2.07 0-2.86zM5.41 20L4 18.59l7.72-7.72 1.47 1.35L5.41 20z\"/>\n",
              "  </svg>\n",
              "      </button>\n",
              "      \n",
              "  <style>\n",
              "    .colab-df-container {\n",
              "      display:flex;\n",
              "      flex-wrap:wrap;\n",
              "      gap: 12px;\n",
              "    }\n",
              "\n",
              "    .colab-df-convert {\n",
              "      background-color: #E8F0FE;\n",
              "      border: none;\n",
              "      border-radius: 50%;\n",
              "      cursor: pointer;\n",
              "      display: none;\n",
              "      fill: #1967D2;\n",
              "      height: 32px;\n",
              "      padding: 0 0 0 0;\n",
              "      width: 32px;\n",
              "    }\n",
              "\n",
              "    .colab-df-convert:hover {\n",
              "      background-color: #E2EBFA;\n",
              "      box-shadow: 0px 1px 2px rgba(60, 64, 67, 0.3), 0px 1px 3px 1px rgba(60, 64, 67, 0.15);\n",
              "      fill: #174EA6;\n",
              "    }\n",
              "\n",
              "    [theme=dark] .colab-df-convert {\n",
              "      background-color: #3B4455;\n",
              "      fill: #D2E3FC;\n",
              "    }\n",
              "\n",
              "    [theme=dark] .colab-df-convert:hover {\n",
              "      background-color: #434B5C;\n",
              "      box-shadow: 0px 1px 3px 1px rgba(0, 0, 0, 0.15);\n",
              "      filter: drop-shadow(0px 1px 2px rgba(0, 0, 0, 0.3));\n",
              "      fill: #FFFFFF;\n",
              "    }\n",
              "  </style>\n",
              "\n",
              "      <script>\n",
              "        const buttonEl =\n",
              "          document.querySelector('#df-4dce7eb6-37c8-418b-a52c-61cb87df9da9 button.colab-df-convert');\n",
              "        buttonEl.style.display =\n",
              "          google.colab.kernel.accessAllowed ? 'block' : 'none';\n",
              "\n",
              "        async function convertToInteractive(key) {\n",
              "          const element = document.querySelector('#df-4dce7eb6-37c8-418b-a52c-61cb87df9da9');\n",
              "          const dataTable =\n",
              "            await google.colab.kernel.invokeFunction('convertToInteractive',\n",
              "                                                     [key], {});\n",
              "          if (!dataTable) return;\n",
              "\n",
              "          const docLinkHtml = 'Like what you see? Visit the ' +\n",
              "            '<a target=\"_blank\" href=https://colab.research.google.com/notebooks/data_table.ipynb>data table notebook</a>'\n",
              "            + ' to learn more about interactive tables.';\n",
              "          element.innerHTML = '';\n",
              "          dataTable['output_type'] = 'display_data';\n",
              "          await google.colab.output.renderOutput(dataTable, element);\n",
              "          const docLink = document.createElement('div');\n",
              "          docLink.innerHTML = docLinkHtml;\n",
              "          element.appendChild(docLink);\n",
              "        }\n",
              "      </script>\n",
              "    </div>\n",
              "  </div>\n",
              "  "
            ]
          },
          "metadata": {},
          "execution_count": 7
        }
      ],
      "source": [
        "df = data.loc[(data['rpt_key'] == 'btc_usd')]\n",
        "df.head()"
      ]
    },
    {
      "cell_type": "markdown",
      "id": "f7616f23",
      "metadata": {
        "id": "f7616f23"
      },
      "source": [
        "### Convert datetime_id to data type and filter dates greater than 2017-06-28 00:00:00"
      ]
    },
    {
      "cell_type": "code",
      "execution_count": null,
      "id": "80024d2f",
      "metadata": {
        "id": "80024d2f"
      },
      "outputs": [],
      "source": [
        "df = df.reset_index(drop=True)\n",
        "df['datetime'] = pd.to_datetime(df['datetime_id'])\n",
        "df = df.loc[df['datetime'] > pd.to_datetime('2017-06-28 00:00:00')]"
      ]
    },
    {
      "cell_type": "code",
      "execution_count": null,
      "id": "ac6a6981",
      "metadata": {
        "colab": {
          "base_uri": "https://localhost:8080/",
          "height": 206
        },
        "id": "ac6a6981",
        "outputId": "bc095a7d-42a3-429c-bb25-aaec1c5ebdbf"
      },
      "outputs": [
        {
          "output_type": "execute_result",
          "data": {
            "text/plain": [
              "                 datetime     last  diff_24h  diff_per_24h      bid      ask  \\\n",
              "77762 2017-06-28 00:01:00  2344.00   2491.98     -5.938250  2335.01  2343.89   \n",
              "77763 2017-06-28 00:01:00  2499.39   2682.25     -6.817411  2495.00  2499.33   \n",
              "77764 2017-06-28 00:02:00  2337.18   2491.98     -6.211928  2337.18  2340.00   \n",
              "77765 2017-06-28 00:02:00  2492.76   2682.25     -7.064591  2492.76  2495.00   \n",
              "77766 2017-06-28 00:03:00  2335.02   2491.98     -6.298606  2335.01  2335.02   \n",
              "\n",
              "          low     high        volume  \n",
              "77762  2307.0  2473.19  20719.583592  \n",
              "77763  2444.0  2780.62   2265.557866  \n",
              "77764  2307.0  2473.19  20732.082581  \n",
              "77765  2444.0  2780.62   2262.618866  \n",
              "77766  2307.0  2473.19  20665.357191  "
            ],
            "text/html": [
              "\n",
              "  <div id=\"df-904b07f7-d2d2-47c0-954f-a14a5ae67f3e\">\n",
              "    <div class=\"colab-df-container\">\n",
              "      <div>\n",
              "<style scoped>\n",
              "    .dataframe tbody tr th:only-of-type {\n",
              "        vertical-align: middle;\n",
              "    }\n",
              "\n",
              "    .dataframe tbody tr th {\n",
              "        vertical-align: top;\n",
              "    }\n",
              "\n",
              "    .dataframe thead th {\n",
              "        text-align: right;\n",
              "    }\n",
              "</style>\n",
              "<table border=\"1\" class=\"dataframe\">\n",
              "  <thead>\n",
              "    <tr style=\"text-align: right;\">\n",
              "      <th></th>\n",
              "      <th>datetime</th>\n",
              "      <th>last</th>\n",
              "      <th>diff_24h</th>\n",
              "      <th>diff_per_24h</th>\n",
              "      <th>bid</th>\n",
              "      <th>ask</th>\n",
              "      <th>low</th>\n",
              "      <th>high</th>\n",
              "      <th>volume</th>\n",
              "    </tr>\n",
              "  </thead>\n",
              "  <tbody>\n",
              "    <tr>\n",
              "      <th>77762</th>\n",
              "      <td>2017-06-28 00:01:00</td>\n",
              "      <td>2344.00</td>\n",
              "      <td>2491.98</td>\n",
              "      <td>-5.938250</td>\n",
              "      <td>2335.01</td>\n",
              "      <td>2343.89</td>\n",
              "      <td>2307.0</td>\n",
              "      <td>2473.19</td>\n",
              "      <td>20719.583592</td>\n",
              "    </tr>\n",
              "    <tr>\n",
              "      <th>77763</th>\n",
              "      <td>2017-06-28 00:01:00</td>\n",
              "      <td>2499.39</td>\n",
              "      <td>2682.25</td>\n",
              "      <td>-6.817411</td>\n",
              "      <td>2495.00</td>\n",
              "      <td>2499.33</td>\n",
              "      <td>2444.0</td>\n",
              "      <td>2780.62</td>\n",
              "      <td>2265.557866</td>\n",
              "    </tr>\n",
              "    <tr>\n",
              "      <th>77764</th>\n",
              "      <td>2017-06-28 00:02:00</td>\n",
              "      <td>2337.18</td>\n",
              "      <td>2491.98</td>\n",
              "      <td>-6.211928</td>\n",
              "      <td>2337.18</td>\n",
              "      <td>2340.00</td>\n",
              "      <td>2307.0</td>\n",
              "      <td>2473.19</td>\n",
              "      <td>20732.082581</td>\n",
              "    </tr>\n",
              "    <tr>\n",
              "      <th>77765</th>\n",
              "      <td>2017-06-28 00:02:00</td>\n",
              "      <td>2492.76</td>\n",
              "      <td>2682.25</td>\n",
              "      <td>-7.064591</td>\n",
              "      <td>2492.76</td>\n",
              "      <td>2495.00</td>\n",
              "      <td>2444.0</td>\n",
              "      <td>2780.62</td>\n",
              "      <td>2262.618866</td>\n",
              "    </tr>\n",
              "    <tr>\n",
              "      <th>77766</th>\n",
              "      <td>2017-06-28 00:03:00</td>\n",
              "      <td>2335.02</td>\n",
              "      <td>2491.98</td>\n",
              "      <td>-6.298606</td>\n",
              "      <td>2335.01</td>\n",
              "      <td>2335.02</td>\n",
              "      <td>2307.0</td>\n",
              "      <td>2473.19</td>\n",
              "      <td>20665.357191</td>\n",
              "    </tr>\n",
              "  </tbody>\n",
              "</table>\n",
              "</div>\n",
              "      <button class=\"colab-df-convert\" onclick=\"convertToInteractive('df-904b07f7-d2d2-47c0-954f-a14a5ae67f3e')\"\n",
              "              title=\"Convert this dataframe to an interactive table.\"\n",
              "              style=\"display:none;\">\n",
              "        \n",
              "  <svg xmlns=\"http://www.w3.org/2000/svg\" height=\"24px\"viewBox=\"0 0 24 24\"\n",
              "       width=\"24px\">\n",
              "    <path d=\"M0 0h24v24H0V0z\" fill=\"none\"/>\n",
              "    <path d=\"M18.56 5.44l.94 2.06.94-2.06 2.06-.94-2.06-.94-.94-2.06-.94 2.06-2.06.94zm-11 1L8.5 8.5l.94-2.06 2.06-.94-2.06-.94L8.5 2.5l-.94 2.06-2.06.94zm10 10l.94 2.06.94-2.06 2.06-.94-2.06-.94-.94-2.06-.94 2.06-2.06.94z\"/><path d=\"M17.41 7.96l-1.37-1.37c-.4-.4-.92-.59-1.43-.59-.52 0-1.04.2-1.43.59L10.3 9.45l-7.72 7.72c-.78.78-.78 2.05 0 2.83L4 21.41c.39.39.9.59 1.41.59.51 0 1.02-.2 1.41-.59l7.78-7.78 2.81-2.81c.8-.78.8-2.07 0-2.86zM5.41 20L4 18.59l7.72-7.72 1.47 1.35L5.41 20z\"/>\n",
              "  </svg>\n",
              "      </button>\n",
              "      \n",
              "  <style>\n",
              "    .colab-df-container {\n",
              "      display:flex;\n",
              "      flex-wrap:wrap;\n",
              "      gap: 12px;\n",
              "    }\n",
              "\n",
              "    .colab-df-convert {\n",
              "      background-color: #E8F0FE;\n",
              "      border: none;\n",
              "      border-radius: 50%;\n",
              "      cursor: pointer;\n",
              "      display: none;\n",
              "      fill: #1967D2;\n",
              "      height: 32px;\n",
              "      padding: 0 0 0 0;\n",
              "      width: 32px;\n",
              "    }\n",
              "\n",
              "    .colab-df-convert:hover {\n",
              "      background-color: #E2EBFA;\n",
              "      box-shadow: 0px 1px 2px rgba(60, 64, 67, 0.3), 0px 1px 3px 1px rgba(60, 64, 67, 0.15);\n",
              "      fill: #174EA6;\n",
              "    }\n",
              "\n",
              "    [theme=dark] .colab-df-convert {\n",
              "      background-color: #3B4455;\n",
              "      fill: #D2E3FC;\n",
              "    }\n",
              "\n",
              "    [theme=dark] .colab-df-convert:hover {\n",
              "      background-color: #434B5C;\n",
              "      box-shadow: 0px 1px 3px 1px rgba(0, 0, 0, 0.15);\n",
              "      filter: drop-shadow(0px 1px 2px rgba(0, 0, 0, 0.3));\n",
              "      fill: #FFFFFF;\n",
              "    }\n",
              "  </style>\n",
              "\n",
              "      <script>\n",
              "        const buttonEl =\n",
              "          document.querySelector('#df-904b07f7-d2d2-47c0-954f-a14a5ae67f3e button.colab-df-convert');\n",
              "        buttonEl.style.display =\n",
              "          google.colab.kernel.accessAllowed ? 'block' : 'none';\n",
              "\n",
              "        async function convertToInteractive(key) {\n",
              "          const element = document.querySelector('#df-904b07f7-d2d2-47c0-954f-a14a5ae67f3e');\n",
              "          const dataTable =\n",
              "            await google.colab.kernel.invokeFunction('convertToInteractive',\n",
              "                                                     [key], {});\n",
              "          if (!dataTable) return;\n",
              "\n",
              "          const docLinkHtml = 'Like what you see? Visit the ' +\n",
              "            '<a target=\"_blank\" href=https://colab.research.google.com/notebooks/data_table.ipynb>data table notebook</a>'\n",
              "            + ' to learn more about interactive tables.';\n",
              "          element.innerHTML = '';\n",
              "          dataTable['output_type'] = 'display_data';\n",
              "          await google.colab.output.renderOutput(dataTable, element);\n",
              "          const docLink = document.createElement('div');\n",
              "          docLink.innerHTML = docLinkHtml;\n",
              "          element.appendChild(docLink);\n",
              "        }\n",
              "      </script>\n",
              "    </div>\n",
              "  </div>\n",
              "  "
            ]
          },
          "metadata": {},
          "execution_count": 9
        }
      ],
      "source": [
        "df = df[['datetime', 'last', 'diff_24h', 'diff_per_24h', 'bid', 'ask', 'low', 'high', 'volume']]\n",
        "df.head()"
      ]
    },
    {
      "cell_type": "markdown",
      "id": "d7998802",
      "metadata": {
        "id": "d7998802"
      },
      "source": [
        "### Last value is the target variable so we subset it and store it in a numpy array"
      ]
    },
    {
      "cell_type": "code",
      "execution_count": null,
      "id": "623b36f7",
      "metadata": {
        "colab": {
          "base_uri": "https://localhost:8080/"
        },
        "id": "623b36f7",
        "outputId": "3603b2bb-e46f-4a8a-e367-6c79ee43b72c"
      },
      "outputs": [
        {
          "output_type": "execute_result",
          "data": {
            "text/plain": [
              "array([[2344.  ],\n",
              "       [2499.39],\n",
              "       [2337.18],\n",
              "       ...,\n",
              "       [2394.03],\n",
              "       [2320.47],\n",
              "       [2394.03]])"
            ]
          },
          "metadata": {},
          "execution_count": 10
        }
      ],
      "source": [
        "dataset = df[['last']].values\n",
        "dataset = dataset.astype('float64')\n",
        "dataset"
      ]
    },
    {
      "cell_type": "markdown",
      "id": "5b50575c",
      "metadata": {
        "id": "5b50575c"
      },
      "source": [
        "### Feature Scaling"
      ]
    },
    {
      "cell_type": "code",
      "execution_count": null,
      "id": "6892f634",
      "metadata": {
        "colab": {
          "base_uri": "https://localhost:8080/"
        },
        "id": "6892f634",
        "outputId": "5bba770e-897a-48ce-c567-5be86296b26e"
      },
      "outputs": [
        {
          "output_type": "execute_result",
          "data": {
            "text/plain": [
              "array([[0.19976947],\n",
              "       [0.49828066],\n",
              "       [0.18666795],\n",
              "       ...,\n",
              "       [0.29587936],\n",
              "       [0.15456728],\n",
              "       [0.29587936]])"
            ]
          },
          "metadata": {},
          "execution_count": 11
        }
      ],
      "source": [
        "# Scaling the data in the range of 0 - 1\n",
        "scaler = MinMaxScaler(feature_range = (0,1))\n",
        "dataset = scaler.fit_transform(dataset)\n",
        "dataset"
      ]
    },
    {
      "cell_type": "markdown",
      "id": "6c566db0",
      "metadata": {
        "id": "6c566db0"
      },
      "source": [
        "### Splitting the data into test and train set"
      ]
    },
    {
      "cell_type": "code",
      "execution_count": null,
      "id": "bab90e5a",
      "metadata": {
        "colab": {
          "base_uri": "https://localhost:8080/"
        },
        "id": "bab90e5a",
        "outputId": "8d663a51-449b-46f3-9e7e-2644a4a5abaa"
      },
      "outputs": [
        {
          "output_type": "stream",
          "name": "stdout",
          "text": [
            "31942 15734\n"
          ]
        }
      ],
      "source": [
        "train_size = int(len(dataset) * 0.67)\n",
        "test_size = len(dataset) - train_size\n",
        "train, test = dataset[0:train_size, :], dataset[train_size:len(dataset), :]\n",
        "print(len(train), len(test))"
      ]
    },
    {
      "cell_type": "markdown",
      "id": "ac92bd81",
      "metadata": {
        "id": "ac92bd81"
      },
      "source": [
        "### Function to create input and output arrays"
      ]
    },
    {
      "cell_type": "code",
      "execution_count": null,
      "id": "ca23b5a3",
      "metadata": {
        "id": "ca23b5a3"
      },
      "outputs": [],
      "source": [
        "# Convert an array of values into a dataset matrix\n",
        "def create_dataset(dataset, look_back=1):\n",
        "  dataX, dataY = [], []\n",
        "  for i in range(len(dataset)-look_back-1):\n",
        "    a = dataset[i:(i+look_back), 0]\n",
        "    dataX.append(a)\n",
        "    dataY.append(dataset[i + look_back, 0])\n",
        "  return np.array(dataX), np.array(dataY)"
      ]
    },
    {
      "cell_type": "code",
      "execution_count": null,
      "id": "57849ceb",
      "metadata": {
        "id": "57849ceb"
      },
      "outputs": [],
      "source": [
        "look_back = 10\n",
        "trainX, trainY = create_dataset(train, look_back=look_back)\n",
        "testX, testY = create_dataset(test, look_back=look_back)"
      ]
    },
    {
      "cell_type": "code",
      "execution_count": null,
      "id": "8361c139",
      "metadata": {
        "colab": {
          "base_uri": "https://localhost:8080/"
        },
        "id": "8361c139",
        "outputId": "24c20bd5-cf07-45e9-aec9-9c31b22c09ac"
      },
      "outputs": [
        {
          "output_type": "execute_result",
          "data": {
            "text/plain": [
              "array([[0.19976947, 0.49828066, 0.18666795, ..., 0.49753146, 0.19973105,\n",
              "        0.48600519],\n",
              "       [0.49828066, 0.18666795, 0.48554414, ..., 0.19973105, 0.48600519,\n",
              "        0.18442032],\n",
              "       [0.18666795, 0.48554414, 0.18251849, ..., 0.48600519, 0.18442032,\n",
              "        0.48598598],\n",
              "       ...,\n",
              "       [0.53376237, 0.69436173, 0.53105369, ..., 0.70821247, 0.520584  ,\n",
              "        0.70815484],\n",
              "       [0.69436173, 0.53105369, 0.70823168, ..., 0.520584  , 0.70815484,\n",
              "        0.5266545 ],\n",
              "       [0.53105369, 0.70823168, 0.53320526, ..., 0.70815484, 0.5266545 ,\n",
              "        0.70815484]])"
            ]
          },
          "metadata": {},
          "execution_count": 15
        }
      ],
      "source": [
        "trainX"
      ]
    },
    {
      "cell_type": "code",
      "execution_count": null,
      "id": "5f18de8f",
      "metadata": {
        "colab": {
          "base_uri": "https://localhost:8080/"
        },
        "id": "5f18de8f",
        "outputId": "36e845dd-311d-4ace-f031-69b4881fdbac"
      },
      "outputs": [
        {
          "output_type": "execute_result",
          "data": {
            "text/plain": [
              "array([0.18442032, 0.48598598, 0.19208529, ..., 0.5266545 , 0.70815484,\n",
              "       0.52064163])"
            ]
          },
          "metadata": {},
          "execution_count": 16
        }
      ],
      "source": [
        "trainY"
      ]
    },
    {
      "cell_type": "code",
      "execution_count": null,
      "id": "8efc7f0a",
      "metadata": {
        "id": "8efc7f0a"
      },
      "outputs": [],
      "source": [
        "# Reshape input to be [samples, time steps, features]\n",
        "trainX = np.reshape(trainX, (trainX.shape[0], 1, trainX.shape[1]))\n",
        "testX = np.reshape(testX, (testX.shape[0], 1, testX.shape[1]))"
      ]
    },
    {
      "cell_type": "code",
      "execution_count": null,
      "id": "5ac988d6",
      "metadata": {
        "colab": {
          "base_uri": "https://localhost:8080/"
        },
        "id": "5ac988d6",
        "outputId": "f8708485-03c4-42b2-f3c6-c6492d3c2fe9"
      },
      "outputs": [
        {
          "output_type": "execute_result",
          "data": {
            "text/plain": [
              "array([[[0.19976947, 0.49828066, 0.18666795, ..., 0.49753146,\n",
              "         0.19973105, 0.48600519]],\n",
              "\n",
              "       [[0.49828066, 0.18666795, 0.48554414, ..., 0.19973105,\n",
              "         0.48600519, 0.18442032]],\n",
              "\n",
              "       [[0.18666795, 0.48554414, 0.18251849, ..., 0.48600519,\n",
              "         0.18442032, 0.48598598]],\n",
              "\n",
              "       ...,\n",
              "\n",
              "       [[0.53376237, 0.69436173, 0.53105369, ..., 0.70821247,\n",
              "         0.520584  , 0.70815484]],\n",
              "\n",
              "       [[0.69436173, 0.53105369, 0.70823168, ..., 0.520584  ,\n",
              "         0.70815484, 0.5266545 ]],\n",
              "\n",
              "       [[0.53105369, 0.70823168, 0.53320526, ..., 0.70815484,\n",
              "         0.5266545 , 0.70815484]]])"
            ]
          },
          "metadata": {},
          "execution_count": 18
        }
      ],
      "source": [
        "trainX"
      ]
    },
    {
      "cell_type": "code",
      "execution_count": null,
      "id": "cdb7ebd0",
      "metadata": {
        "scrolled": true,
        "colab": {
          "base_uri": "https://localhost:8080/"
        },
        "id": "cdb7ebd0",
        "outputId": "27d6d44b-7b4e-45d3-c075-1a0d01e723ab"
      },
      "outputs": [
        {
          "output_type": "execute_result",
          "data": {
            "text/plain": [
              "array([[[0.52308136, 0.70805878, 0.52062242, ..., 0.71937374,\n",
              "         0.52513687, 0.72214004]],\n",
              "\n",
              "       [[0.70805878, 0.52062242, 0.70807799, ..., 0.52513687,\n",
              "         0.72214004, 0.52673134]],\n",
              "\n",
              "       [[0.52062242, 0.70807799, 0.52062242, ..., 0.72214004,\n",
              "         0.52673134, 0.72713476]],\n",
              "\n",
              "       ...,\n",
              "\n",
              "       [[0.15854385, 0.29065412, 0.15854385, ..., 0.31833637,\n",
              "         0.15856306, 0.29587936]],\n",
              "\n",
              "       [[0.29065412, 0.15854385, 0.31833637, ..., 0.15856306,\n",
              "         0.29587936, 0.15456728]],\n",
              "\n",
              "       [[0.15854385, 0.31833637, 0.15408702, ..., 0.29587936,\n",
              "         0.15456728, 0.29587936]]])"
            ]
          },
          "metadata": {},
          "execution_count": 19
        }
      ],
      "source": [
        "testX"
      ]
    },
    {
      "cell_type": "markdown",
      "id": "5bc27773",
      "metadata": {
        "id": "5bc27773"
      },
      "source": [
        "## Building the Model"
      ]
    },
    {
      "cell_type": "code",
      "execution_count": null,
      "id": "6e5f648d",
      "metadata": {
        "colab": {
          "base_uri": "https://localhost:8080/"
        },
        "id": "6e5f648d",
        "outputId": "fbea0f0f-329d-4323-8132-b56cd10e7441"
      },
      "outputs": [
        {
          "output_type": "stream",
          "name": "stdout",
          "text": [
            "Epoch 1/100\n",
            "125/125 [==============================] - 3s 3ms/step - loss: 0.1766 - acc: 3.1318e-05\n",
            "Epoch 2/100\n",
            "125/125 [==============================] - 0s 3ms/step - loss: 0.0063 - acc: 1.2527e-04\n",
            "Epoch 3/100\n",
            "125/125 [==============================] - 0s 3ms/step - loss: 0.0050 - acc: 1.2527e-04\n",
            "Epoch 4/100\n",
            "125/125 [==============================] - 0s 3ms/step - loss: 0.0041 - acc: 1.2527e-04\n",
            "Epoch 5/100\n",
            "125/125 [==============================] - 0s 3ms/step - loss: 0.0032 - acc: 1.2527e-04\n",
            "Epoch 6/100\n",
            "125/125 [==============================] - 0s 3ms/step - loss: 0.0024 - acc: 1.2527e-04\n",
            "Epoch 7/100\n",
            "125/125 [==============================] - 0s 3ms/step - loss: 0.0017 - acc: 1.2527e-04\n",
            "Epoch 8/100\n",
            "125/125 [==============================] - 0s 4ms/step - loss: 0.0011 - acc: 1.2527e-04\n",
            "Epoch 9/100\n",
            "125/125 [==============================] - 1s 4ms/step - loss: 7.4527e-04 - acc: 1.2527e-04\n",
            "Epoch 10/100\n",
            "125/125 [==============================] - 1s 4ms/step - loss: 4.7463e-04 - acc: 1.2527e-04\n",
            "Epoch 11/100\n",
            "125/125 [==============================] - 1s 4ms/step - loss: 3.0703e-04 - acc: 1.2527e-04\n",
            "Epoch 12/100\n",
            "125/125 [==============================] - 1s 4ms/step - loss: 2.1119e-04 - acc: 1.2527e-04\n",
            "Epoch 13/100\n",
            "125/125 [==============================] - 0s 4ms/step - loss: 1.5960e-04 - acc: 1.2527e-04\n",
            "Epoch 14/100\n",
            "125/125 [==============================] - 0s 3ms/step - loss: 1.3235e-04 - acc: 1.2527e-04\n",
            "Epoch 15/100\n",
            "125/125 [==============================] - 0s 3ms/step - loss: 1.1767e-04 - acc: 1.2527e-04\n",
            "Epoch 16/100\n",
            "125/125 [==============================] - 0s 3ms/step - loss: 1.0954e-04 - acc: 1.2527e-04\n",
            "Epoch 17/100\n",
            "125/125 [==============================] - 0s 3ms/step - loss: 1.0488e-04 - acc: 1.2527e-04\n",
            "Epoch 18/100\n",
            "125/125 [==============================] - 0s 3ms/step - loss: 1.0228e-04 - acc: 1.2527e-04\n",
            "Epoch 19/100\n",
            "125/125 [==============================] - 0s 3ms/step - loss: 1.0070e-04 - acc: 1.2527e-04\n",
            "Epoch 20/100\n",
            "125/125 [==============================] - 0s 3ms/step - loss: 9.9861e-05 - acc: 1.2527e-04\n",
            "Epoch 21/100\n",
            "125/125 [==============================] - 0s 3ms/step - loss: 9.9441e-05 - acc: 1.2527e-04\n",
            "Epoch 22/100\n",
            "125/125 [==============================] - 0s 3ms/step - loss: 9.9217e-05 - acc: 1.2527e-04\n",
            "Epoch 23/100\n",
            "125/125 [==============================] - 0s 3ms/step - loss: 9.9111e-05 - acc: 1.2527e-04\n",
            "Epoch 24/100\n",
            "125/125 [==============================] - 0s 3ms/step - loss: 9.9152e-05 - acc: 1.2527e-04\n",
            "Epoch 25/100\n",
            "125/125 [==============================] - 0s 3ms/step - loss: 9.9053e-05 - acc: 1.2527e-04\n",
            "Epoch 26/100\n",
            "125/125 [==============================] - 0s 3ms/step - loss: 9.8961e-05 - acc: 1.2527e-04\n",
            "Epoch 27/100\n",
            "125/125 [==============================] - 0s 3ms/step - loss: 9.8941e-05 - acc: 1.2527e-04\n",
            "Epoch 28/100\n",
            "125/125 [==============================] - 0s 3ms/step - loss: 9.8933e-05 - acc: 1.2527e-04\n",
            "Epoch 29/100\n",
            "125/125 [==============================] - 0s 3ms/step - loss: 9.8816e-05 - acc: 1.2527e-04\n",
            "Epoch 30/100\n",
            "125/125 [==============================] - 0s 3ms/step - loss: 9.8795e-05 - acc: 1.2527e-04\n",
            "Epoch 31/100\n",
            "125/125 [==============================] - 0s 3ms/step - loss: 9.8901e-05 - acc: 1.2527e-04\n",
            "Epoch 32/100\n",
            "125/125 [==============================] - 0s 3ms/step - loss: 9.8792e-05 - acc: 1.2527e-04\n",
            "Epoch 33/100\n",
            "125/125 [==============================] - 0s 3ms/step - loss: 9.8709e-05 - acc: 1.2527e-04\n",
            "Epoch 34/100\n",
            "125/125 [==============================] - 0s 3ms/step - loss: 9.8697e-05 - acc: 1.2527e-04\n",
            "Epoch 35/100\n",
            "125/125 [==============================] - 0s 3ms/step - loss: 9.8723e-05 - acc: 1.2527e-04\n",
            "Epoch 36/100\n",
            "125/125 [==============================] - 0s 3ms/step - loss: 9.8513e-05 - acc: 1.2527e-04\n",
            "Epoch 37/100\n",
            "125/125 [==============================] - 0s 3ms/step - loss: 9.8530e-05 - acc: 1.2527e-04\n",
            "Epoch 38/100\n",
            "125/125 [==============================] - 0s 3ms/step - loss: 9.8361e-05 - acc: 1.2527e-04\n",
            "Epoch 39/100\n",
            "125/125 [==============================] - 0s 3ms/step - loss: 9.8310e-05 - acc: 1.2527e-04\n",
            "Epoch 40/100\n",
            "125/125 [==============================] - 0s 3ms/step - loss: 9.8321e-05 - acc: 1.2527e-04\n",
            "Epoch 41/100\n",
            "125/125 [==============================] - 1s 4ms/step - loss: 9.8230e-05 - acc: 1.2527e-04\n",
            "Epoch 42/100\n",
            "125/125 [==============================] - 0s 4ms/step - loss: 9.8206e-05 - acc: 1.2527e-04\n",
            "Epoch 43/100\n",
            "125/125 [==============================] - 1s 4ms/step - loss: 9.8060e-05 - acc: 1.2527e-04\n",
            "Epoch 44/100\n",
            "125/125 [==============================] - 0s 4ms/step - loss: 9.7893e-05 - acc: 1.2527e-04\n",
            "Epoch 45/100\n",
            "125/125 [==============================] - 1s 4ms/step - loss: 9.7922e-05 - acc: 1.2527e-04\n",
            "Epoch 46/100\n",
            "125/125 [==============================] - 0s 3ms/step - loss: 9.7765e-05 - acc: 1.2527e-04\n",
            "Epoch 47/100\n",
            "125/125 [==============================] - 0s 3ms/step - loss: 9.7893e-05 - acc: 1.2527e-04\n",
            "Epoch 48/100\n",
            "125/125 [==============================] - 0s 3ms/step - loss: 9.7400e-05 - acc: 1.2527e-04\n",
            "Epoch 49/100\n",
            "125/125 [==============================] - 0s 3ms/step - loss: 9.7832e-05 - acc: 1.2527e-04\n",
            "Epoch 50/100\n",
            "125/125 [==============================] - 0s 3ms/step - loss: 9.7389e-05 - acc: 1.2527e-04\n",
            "Epoch 51/100\n",
            "125/125 [==============================] - 0s 3ms/step - loss: 9.7214e-05 - acc: 1.2527e-04\n",
            "Epoch 52/100\n",
            "125/125 [==============================] - 0s 3ms/step - loss: 9.7133e-05 - acc: 1.2527e-04\n",
            "Epoch 53/100\n",
            "125/125 [==============================] - 0s 3ms/step - loss: 9.7156e-05 - acc: 1.2527e-04\n",
            "Epoch 54/100\n",
            "125/125 [==============================] - 0s 3ms/step - loss: 9.7008e-05 - acc: 1.2527e-04\n",
            "Epoch 55/100\n",
            "125/125 [==============================] - 0s 3ms/step - loss: 9.6562e-05 - acc: 1.2527e-04\n",
            "Epoch 56/100\n",
            "125/125 [==============================] - 0s 3ms/step - loss: 9.6502e-05 - acc: 1.2527e-04\n",
            "Epoch 57/100\n",
            "125/125 [==============================] - 0s 3ms/step - loss: 9.6481e-05 - acc: 1.2527e-04\n",
            "Epoch 58/100\n",
            "125/125 [==============================] - 0s 3ms/step - loss: 9.7109e-05 - acc: 1.2527e-04\n",
            "Epoch 59/100\n",
            "125/125 [==============================] - 0s 3ms/step - loss: 9.5871e-05 - acc: 1.2527e-04\n",
            "Epoch 60/100\n",
            "125/125 [==============================] - 0s 3ms/step - loss: 9.6109e-05 - acc: 1.2527e-04\n",
            "Epoch 61/100\n",
            "125/125 [==============================] - 0s 3ms/step - loss: 9.5832e-05 - acc: 1.2527e-04\n",
            "Epoch 62/100\n",
            "125/125 [==============================] - 0s 3ms/step - loss: 9.5608e-05 - acc: 1.2527e-04\n",
            "Epoch 63/100\n",
            "125/125 [==============================] - 0s 3ms/step - loss: 9.5757e-05 - acc: 1.2527e-04\n",
            "Epoch 64/100\n",
            "125/125 [==============================] - 0s 3ms/step - loss: 9.5179e-05 - acc: 1.2527e-04\n",
            "Epoch 65/100\n",
            "125/125 [==============================] - 0s 3ms/step - loss: 9.5121e-05 - acc: 1.2527e-04\n",
            "Epoch 66/100\n",
            "125/125 [==============================] - 0s 3ms/step - loss: 9.4606e-05 - acc: 1.2527e-04\n",
            "Epoch 67/100\n",
            "125/125 [==============================] - 0s 3ms/step - loss: 9.4753e-05 - acc: 1.2527e-04\n",
            "Epoch 68/100\n",
            "125/125 [==============================] - 0s 3ms/step - loss: 9.4412e-05 - acc: 1.2527e-04\n",
            "Epoch 69/100\n",
            "125/125 [==============================] - 0s 3ms/step - loss: 9.4160e-05 - acc: 1.2527e-04\n",
            "Epoch 70/100\n",
            "125/125 [==============================] - 0s 3ms/step - loss: 9.3868e-05 - acc: 1.2527e-04\n",
            "Epoch 71/100\n",
            "125/125 [==============================] - 0s 3ms/step - loss: 9.3650e-05 - acc: 1.2527e-04\n",
            "Epoch 72/100\n",
            "125/125 [==============================] - 0s 3ms/step - loss: 9.3258e-05 - acc: 1.2527e-04\n",
            "Epoch 73/100\n",
            "125/125 [==============================] - 0s 3ms/step - loss: 9.3362e-05 - acc: 1.2527e-04\n",
            "Epoch 74/100\n",
            "125/125 [==============================] - 0s 4ms/step - loss: 9.2891e-05 - acc: 1.2527e-04\n",
            "Epoch 75/100\n",
            "125/125 [==============================] - 1s 4ms/step - loss: 9.3626e-05 - acc: 1.2527e-04\n",
            "Epoch 76/100\n",
            "125/125 [==============================] - 1s 4ms/step - loss: 9.2601e-05 - acc: 1.2527e-04\n",
            "Epoch 77/100\n",
            "125/125 [==============================] - 1s 4ms/step - loss: 9.1640e-05 - acc: 1.2527e-04\n",
            "Epoch 78/100\n",
            "125/125 [==============================] - 1s 4ms/step - loss: 9.2800e-05 - acc: 1.2527e-04\n",
            "Epoch 79/100\n",
            "125/125 [==============================] - 0s 4ms/step - loss: 9.1814e-05 - acc: 1.2527e-04\n",
            "Epoch 80/100\n",
            "125/125 [==============================] - 0s 3ms/step - loss: 9.2761e-05 - acc: 1.2527e-04\n",
            "Epoch 81/100\n",
            "125/125 [==============================] - 0s 3ms/step - loss: 9.1433e-05 - acc: 1.2527e-04\n",
            "Epoch 82/100\n",
            "125/125 [==============================] - 0s 3ms/step - loss: 9.0892e-05 - acc: 1.2527e-04\n",
            "Epoch 83/100\n",
            "125/125 [==============================] - 0s 3ms/step - loss: 9.1462e-05 - acc: 1.2527e-04\n",
            "Epoch 84/100\n",
            "125/125 [==============================] - 0s 3ms/step - loss: 9.1901e-05 - acc: 1.2527e-04\n",
            "Epoch 85/100\n",
            "125/125 [==============================] - 0s 3ms/step - loss: 9.1048e-05 - acc: 1.2527e-04\n",
            "Epoch 86/100\n",
            "125/125 [==============================] - 0s 3ms/step - loss: 8.9974e-05 - acc: 1.2527e-04\n",
            "Epoch 87/100\n",
            "125/125 [==============================] - 0s 3ms/step - loss: 8.9838e-05 - acc: 1.2527e-04\n",
            "Epoch 88/100\n",
            "125/125 [==============================] - 0s 3ms/step - loss: 8.9513e-05 - acc: 1.2527e-04\n",
            "Epoch 89/100\n",
            "125/125 [==============================] - 0s 3ms/step - loss: 8.9584e-05 - acc: 1.2527e-04\n",
            "Epoch 90/100\n",
            "125/125 [==============================] - 0s 3ms/step - loss: 8.9092e-05 - acc: 1.2527e-04\n",
            "Epoch 91/100\n",
            "125/125 [==============================] - 0s 3ms/step - loss: 8.9645e-05 - acc: 1.2527e-04\n",
            "Epoch 92/100\n",
            "125/125 [==============================] - 0s 3ms/step - loss: 8.9849e-05 - acc: 1.2527e-04\n",
            "Epoch 93/100\n",
            "125/125 [==============================] - 0s 3ms/step - loss: 8.8970e-05 - acc: 1.2527e-04\n",
            "Epoch 94/100\n",
            "125/125 [==============================] - 0s 3ms/step - loss: 8.8487e-05 - acc: 1.2527e-04\n",
            "Epoch 95/100\n",
            "125/125 [==============================] - 0s 3ms/step - loss: 8.7905e-05 - acc: 1.2527e-04\n",
            "Epoch 96/100\n",
            "125/125 [==============================] - 0s 3ms/step - loss: 8.7668e-05 - acc: 1.2527e-04\n",
            "Epoch 97/100\n",
            "125/125 [==============================] - 0s 3ms/step - loss: 8.7461e-05 - acc: 1.2527e-04\n",
            "Epoch 98/100\n",
            "125/125 [==============================] - 0s 3ms/step - loss: 8.8389e-05 - acc: 1.2527e-04\n",
            "Epoch 99/100\n",
            "125/125 [==============================] - 0s 3ms/step - loss: 8.7657e-05 - acc: 1.2527e-04\n",
            "Epoch 100/100\n",
            "125/125 [==============================] - 0s 3ms/step - loss: 8.8361e-05 - acc: 1.2527e-04\n"
          ]
        },
        {
          "output_type": "execute_result",
          "data": {
            "text/plain": [
              "<keras.callbacks.History at 0x7f5cbf700910>"
            ]
          },
          "metadata": {},
          "execution_count": 20
        }
      ],
      "source": [
        "model = Sequential()\n",
        "model.add(LSTM(4, input_shape=(1, look_back)))\n",
        "model.add(Dense(1))\n",
        "model.compile(loss='mean_squared_error', optimizer='adam', metrics=['acc'])\n",
        "model.fit(trainX, trainY, epochs=100, batch_size=256, verbose=1)"
      ]
    },
    {
      "cell_type": "code",
      "execution_count": null,
      "id": "db438109",
      "metadata": {
        "colab": {
          "base_uri": "https://localhost:8080/"
        },
        "id": "db438109",
        "outputId": "d7eb8399-4f7d-4a45-d468-c1ceebc69ca2"
      },
      "outputs": [
        {
          "output_type": "stream",
          "name": "stdout",
          "text": [
            "998/998 [==============================] - 2s 2ms/step\n",
            "492/492 [==============================] - 1s 2ms/step\n"
          ]
        }
      ],
      "source": [
        "trainPredict = model.predict(trainX)\n",
        "testPredict = model.predict(testX)"
      ]
    },
    {
      "cell_type": "code",
      "execution_count": null,
      "id": "3d1059d2",
      "metadata": {
        "id": "3d1059d2"
      },
      "outputs": [],
      "source": [
        "# Reversing the data \n",
        "trainPredict = scaler.inverse_transform(trainPredict)\n",
        "trainY = scaler.inverse_transform([trainY])\n",
        "testPredict = scaler.inverse_transform(testPredict)\n",
        "testY = scaler.inverse_transform([testY])"
      ]
    },
    {
      "cell_type": "code",
      "execution_count": null,
      "id": "7b378810",
      "metadata": {
        "colab": {
          "base_uri": "https://localhost:8080/"
        },
        "id": "7b378810",
        "outputId": "b74007b2-a9ec-4a3b-ec88-119d5664abe7"
      },
      "outputs": [
        {
          "output_type": "stream",
          "name": "stdout",
          "text": [
            "Train Score: 4.892282941699478 RMSE\n",
            "Test Score: 7.614420040006575 RMSE\n",
            "R2 Score on Training Data: 0.9959513296321189\n",
            "R2 Score on Test Data: 0.9941789879580278\n"
          ]
        }
      ],
      "source": [
        "# Evaluation Scores\n",
        "trainScore = math.sqrt(mean_squared_error(trainY[0], trainPredict[:, 0]))\n",
        "print(f'Train Score: {trainScore} RMSE')\n",
        "testScore = math.sqrt(mean_squared_error(testY[0], testPredict[:, 0]))\n",
        "print(f'Test Score: {testScore} RMSE')\n",
        "print(f'R2 Score on Training Data: {r2_score(trainY[0], trainPredict[:, 0])}')\n",
        "print(f'R2 Score on Test Data: {r2_score(testY[0], testPredict[:, 0])}')"
      ]
    },
    {
      "cell_type": "code",
      "execution_count": null,
      "id": "9aed791a",
      "metadata": {
        "id": "9aed791a"
      },
      "outputs": [],
      "source": [
        "# Shift train predictions for plotting\n",
        "trainPredictPlot = np.empty_like(dataset)\n",
        "trainPredictPlot[:, :] = np.nan\n",
        "trainPredictPlot[look_back:len(trainPredict) + look_back, :] = trainPredict"
      ]
    },
    {
      "cell_type": "code",
      "source": [
        "# Shift test predictions for plotting\n",
        "testPredictPlot = np.empty_like(dataset)\n",
        "testPredictPlot[:, :] = np.nan\n",
        "testPredictPlot[len(trainPredict) + (look_back * 2) + 1:len(dataset) - 1, :] = testPredict\n",
        " "
      ],
      "metadata": {
        "id": "yyXyIXiApyES"
      },
      "id": "yyXyIXiApyES",
      "execution_count": null,
      "outputs": []
    },
    {
      "cell_type": "code",
      "source": [
        "plt.figure(figsize=(14,9))\n",
        "plt.plot(df['last'], label='Actual')\n",
        "plt.plot(pd.DataFrame(trainPredictPlot, columns=[\"close\"], index=df.index).close, label='Training')\n",
        "plt.plot(pd.DataFrame(testPredictPlot, columns=[\"close\"], index=df.index).close, label='Testing')\n",
        "plt.legend(loc='best')\n",
        "plt.show()"
      ],
      "metadata": {
        "colab": {
          "base_uri": "https://localhost:8080/",
          "height": 537
        },
        "id": "2nPp7yGCp0cf",
        "outputId": "b10c2aeb-a7ee-4905-c654-ed59f9e4ebcb"
      },
      "id": "2nPp7yGCp0cf",
      "execution_count": null,
      "outputs": [
        {
          "output_type": "display_data",
          "data": {
            "text/plain": [
              "<Figure size 1008x648 with 1 Axes>"
            ],
            "image/png": "[encoded data removed]"
          },
          "metadata": {
            "needs_background": "light"
          }
        }
      ]
    },
    {
      "cell_type": "code",
      "source": [],
      "metadata": {
        "id": "vVYYmMsXp3ke"
      },
      "id": "vVYYmMsXp3ke",
      "execution_count": null,
      "outputs": []
    }
  ],
  "metadata": {
    "kernelspec": {
      "display_name": "Python 3 (ipykernel)",
      "language": "python",
      "name": "python3"
    },
    "language_info": {
      "codemirror_mode": {
        "name": "ipython",
        "version": 3
      },
      "file_extension": ".py",
      "mimetype": "text/x-python",
      "name": "python",
      "nbconvert_exporter": "python",
      "pygments_lexer": "ipython3",
      "version": "3.9.13"
    },
    "colab": {
      "provenance": [],
      "include_colab_link": true
    }
  },
  "nbformat": 4,
  "nbformat_minor": 5
}